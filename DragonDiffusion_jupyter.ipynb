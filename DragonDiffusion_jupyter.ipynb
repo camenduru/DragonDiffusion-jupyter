{
  "cells": [
    {
      "cell_type": "markdown",
      "metadata": {
        "id": "view-in-github"
      },
      "source": [
        "[![Open In Colab](https://colab.research.google.com/assets/colab-badge.svg)](https://colab.research.google.com/github/camenduru/DragonDiffusion-jupyter/blob/main/DragonDiffusion_jupyter.ipynb)"
      ]
    },
    {
      "cell_type": "code",
      "execution_count": null,
      "metadata": {
        "id": "VjYy0F2gZIPR"
      },
      "outputs": [],
      "source": [
        "%cd /content\n",
        "!git clone -b dev https://github.com/camenduru/DragonDiffusion\n",
        "%cd /content/DragonDiffusion\n",
        "\n",
        "!pip install -q gradio==3.50.2 omegaconf pytorch_lightning einops diffusers==0.18.0 basicsr accelerate\n",
        "!pip install -q https://download.pytorch.org/whl/cu121/xformers-0.0.22.post7-cp310-cp310-manylinux2014_x86_64.whl\n",
        "\n",
        "from src.demo.download import download_all\n",
        "download_all()\n",
        "\n",
        "from src.demo.demo import create_demo_move, create_demo_appearance, create_demo_drag, create_demo_face_drag, create_demo_paste\n",
        "from src.demo.model import DragonModels\n",
        "\n",
        "import cv2\n",
        "import gradio as gr\n",
        "\n",
        "# main demo\n",
        "pretrained_model_path = \"runwayml/stable-diffusion-v1-5\"\n",
        "model = DragonModels(pretrained_model_path=pretrained_model_path)\n",
        "\n",
        "DESCRIPTION = '# 🐉🐉[DragonDiffusion V1.0](https://github.com/MC-E/DragonDiffusion)🐉🐉'\n",
        "\n",
        "DESCRIPTION += f'<p>Gradio demo for [DragonDiffusion](https://arxiv.org/abs/2307.02421) and [DiffEditor](https://arxiv.org/abs/2307.02421). If it is helpful, please help to recommend [[GitHub Repo]](https://github.com/MC-E/DragonDiffusion) to your friends 😊 </p>'\n",
        "\n",
        "with gr.Blocks(css='style.css') as demo:\n",
        "    gr.Markdown(DESCRIPTION)\n",
        "    with gr.Tabs():\n",
        "        with gr.TabItem('Appearance Modulation'):\n",
        "            create_demo_appearance(model.run_appearance)\n",
        "        with gr.TabItem('Object Moving & Resizing'):\n",
        "            create_demo_move(model.run_move)\n",
        "        with gr.TabItem('Face Modulation'):\n",
        "            create_demo_face_drag(model.run_drag_face)\n",
        "        with gr.TabItem('Content Dragging'):\n",
        "            create_demo_drag(model.run_drag)\n",
        "        with gr.TabItem('Object Pasting'):\n",
        "            create_demo_paste(model.run_paste)\n",
        "\n",
        "demo.queue(concurrency_count=3, max_size=20)\n",
        "demo.launch(debug=True, share=True, inline=False)"
      ]
    }
  ],
  "metadata": {
    "accelerator": "GPU",
    "colab": {
      "gpuType": "T4",
      "provenance": []
    },
    "kernelspec": {
      "display_name": "Python 3",
      "name": "python3"
    },
    "language_info": {
      "name": "python"
    }
  },
  "nbformat": 4,
  "nbformat_minor": 0
}
